{
 "cells": [
  {
   "cell_type": "code",
   "execution_count": 1,
   "id": "9ed7eb15",
   "metadata": {},
   "outputs": [],
   "source": [
    "import numpy as np \n",
    "import pandas as pd \n",
    "import matplotlib.pyplot as plt\n",
    "import cv2\n",
    "import tensorflow as tf\n",
    "from PIL import Image\n",
    "import os\n",
    "from sklearn.model_selection import train_test_split\n",
    "from keras.utils import to_categorical\n",
    "from keras.models import Sequential, load_model\n",
    "from keras.layers import Conv2D, MaxPool2D, Dense, Flatten, Dropout\n",
    "\n",
    "data = [] \n",
    "labels = []\n",
    "classes = 43\n",
    "cur_path = os.getcwd()\n"
   ]
  },
  {
   "cell_type": "code",
   "execution_count": 2,
   "id": "905b64a5",
   "metadata": {},
   "outputs": [],
   "source": [
    "#Retrieving the images and their labels \n",
    "#We iterate over all the classes and append images and their respective labels in the data and labels list. The PIL library is used to open image content into an array \n",
    "#To enhance the performance of the predictive model.\n",
    "\n",
    "for i in range(classes):\n",
    "    path = os.path.join(cur_path,'train',str(i))\n",
    "    images = os.listdir(path)\n",
    "\n",
    "    for a in images:\n",
    "        try:\n",
    "            image = Image.open(path + '/'+ a)\n",
    "            image = image.resize((30,30))\n",
    "            image = np.array(image)\n",
    "            #sim = Image.fromarray(image)\n",
    "            data.append(image)\n",
    "            labels.append(i)\n",
    "        except:\n",
    "            print(\"Error loading image\")"
   ]
  },
  {
   "cell_type": "code",
   "execution_count": 4,
   "id": "752706f3",
   "metadata": {},
   "outputs": [
    {
     "name": "stdout",
     "output_type": "stream",
     "text": [
      "(39209, 30, 30, 3) (39209,)\n"
     ]
    }
   ],
   "source": [
    "#Converting lists into numpy arrays. We need to convert the list into numpy arrays for feeding to the model.\n",
    "#The shape of data is (39209, 30, 30, 3) which means that there are 39,209 images of size 30×30 pixels and the last 3 means the data contains colored images (RGB value).\n",
    "data = np.array(data)\n",
    "labels = np.array(labels)\n",
    "print(data.shape, labels.shape)"
   ]
  },
  {
   "cell_type": "code",
   "execution_count": 5,
   "id": "1c3918e0",
   "metadata": {},
   "outputs": [],
   "source": [
    "#Splitting training and testing dataset\n",
    "X_train, X_test, y_train, y_test = train_test_split(data, labels, test_size=0.2, random_state=42)"
   ]
  },
  {
   "cell_type": "code",
   "execution_count": 6,
   "id": "84e306c5",
   "metadata": {},
   "outputs": [],
   "source": [
    "#Converting the labels into one hot encoding\n",
    "#Many machine learning algorithms cannot operate on label data directly. They require all input variables and output variables to be numeric.\n",
    "#categorical data must be converted to a numerical form.\n",
    "#one-hot encoding can be applied to the integer representation. This is where the integer encoded variable is removed and a new binary variable is added for each unique integer value.\n",
    "y_train = to_categorical(y_train, 43)\n",
    "y_test = to_categorical(y_test, 43)"
   ]
  },
  {
   "cell_type": "code",
   "execution_count": 7,
   "id": "9348a241",
   "metadata": {},
   "outputs": [],
   "source": [
    "#Building the model using tensorflow. we will build a CNN model (Convolutional Neural Network). CNN is best for image classification purposes.\n",
    "#We compile the model with Adam optimizer which performs well and loss is “categorical_crossentropy” because we have multiple classes to categorize.\n",
    "#Flatten layer to squeeze the layers into 1 dimension\n",
    "model = Sequential()\n",
    "model.add(Conv2D(filters=32, kernel_size=(5,5), activation='relu', input_shape=X_train.shape[1:]))\n",
    "model.add(Conv2D(filters=32, kernel_size=(5,5), activation='relu'))\n",
    "model.add(MaxPool2D(pool_size=(2, 2)))\n",
    "model.add(Dropout(rate=0.25))\n",
    "model.add(Conv2D(filters=64, kernel_size=(3, 3), activation='relu'))\n",
    "model.add(Conv2D(filters=64, kernel_size=(3, 3), activation='relu'))\n",
    "model.add(MaxPool2D(pool_size=(2, 2)))\n",
    "model.add(Dropout(rate=0.25))\n",
    "model.add(Flatten())\n",
    "model.add(Dense(256, activation='relu'))\n",
    "model.add(Dropout(rate=0.5))\n",
    "model.add(Dense(43, activation='softmax'))"
   ]
  },
  {
   "cell_type": "code",
   "execution_count": 8,
   "id": "7bfa2cdf",
   "metadata": {},
   "outputs": [],
   "source": [
    "#Compilation of the model\n",
    "model.compile(loss='categorical_crossentropy', optimizer='adam', metrics=['accuracy'])"
   ]
  },
  {
   "cell_type": "code",
   "execution_count": 9,
   "id": "03420d22",
   "metadata": {},
   "outputs": [
    {
     "name": "stdout",
     "output_type": "stream",
     "text": [
      "Epoch 1/15\n",
      "981/981 [==============================] - 152s 153ms/step - loss: 3.8960 - accuracy: 0.2669 - val_loss: 0.6939 - val_accuracy: 0.8442\n",
      "Epoch 2/15\n",
      "981/981 [==============================] - 149s 152ms/step - loss: 0.8722 - accuracy: 0.7429 - val_loss: 0.2866 - val_accuracy: 0.9217\n",
      "Epoch 3/15\n",
      "981/981 [==============================] - 143s 146ms/step - loss: 0.5332 - accuracy: 0.8410 - val_loss: 0.1754 - val_accuracy: 0.9551\n",
      "Epoch 4/15\n",
      "981/981 [==============================] - 136s 139ms/step - loss: 0.4294 - accuracy: 0.8716 - val_loss: 0.1291 - val_accuracy: 0.9628\n",
      "Epoch 5/15\n",
      "981/981 [==============================] - 149s 151ms/step - loss: 0.3794 - accuracy: 0.8913 - val_loss: 0.1083 - val_accuracy: 0.9736\n",
      "Epoch 6/15\n",
      "981/981 [==============================] - 146s 149ms/step - loss: 0.3067 - accuracy: 0.9128 - val_loss: 0.0696 - val_accuracy: 0.9807\n",
      "Epoch 7/15\n",
      "981/981 [==============================] - 172s 175ms/step - loss: 0.2955 - accuracy: 0.9157 - val_loss: 0.1004 - val_accuracy: 0.9737\n",
      "Epoch 8/15\n",
      "981/981 [==============================] - 143s 146ms/step - loss: 0.2758 - accuracy: 0.9252 - val_loss: 0.1036 - val_accuracy: 0.9708\n",
      "Epoch 9/15\n",
      "981/981 [==============================] - 182s 185ms/step - loss: 0.2766 - accuracy: 0.9248 - val_loss: 0.0818 - val_accuracy: 0.9781\n",
      "Epoch 10/15\n",
      "981/981 [==============================] - 180s 183ms/step - loss: 0.2798 - accuracy: 0.9240 - val_loss: 0.1133 - val_accuracy: 0.9700\n",
      "Epoch 11/15\n",
      "981/981 [==============================] - 171s 174ms/step - loss: 0.2576 - accuracy: 0.9310 - val_loss: 0.0901 - val_accuracy: 0.9758\n",
      "Epoch 12/15\n",
      "981/981 [==============================] - 168s 171ms/step - loss: 0.2543 - accuracy: 0.9333 - val_loss: 0.0680 - val_accuracy: 0.9815\n",
      "Epoch 13/15\n",
      "981/981 [==============================] - 163s 166ms/step - loss: 0.2056 - accuracy: 0.9471 - val_loss: 0.0594 - val_accuracy: 0.9836\n",
      "Epoch 14/15\n",
      "981/981 [==============================] - 166s 169ms/step - loss: 0.2299 - accuracy: 0.9390 - val_loss: 0.0665 - val_accuracy: 0.9833\n",
      "Epoch 15/15\n",
      "981/981 [==============================] - 165s 168ms/step - loss: 0.2245 - accuracy: 0.9418 - val_loss: 0.0921 - val_accuracy: 0.9748\n"
     ]
    }
   ],
   "source": [
    "epochs = 15\n",
    "history = model.fit(X_train, y_train, batch_size=32, epochs=epochs, validation_data=(X_test, y_test))\n",
    "model.save(\"my_model.h5\")"
   ]
  },
  {
   "cell_type": "code",
   "execution_count": 10,
   "id": "1f42962f",
   "metadata": {},
   "outputs": [
    {
     "data": {
      "image/png": "[encoded data removed]",
      "text/plain": [
       "<Figure size 432x288 with 1 Axes>"
      ]
     },
     "metadata": {
      "needs_background": "light"
     },
     "output_type": "display_data"
    },
    {
     "data": {
      "image/png": "[encoded data removed]",
      "text/plain": [
       "<Figure size 432x288 with 1 Axes>"
      ]
     },
     "metadata": {
      "needs_background": "light"
     },
     "output_type": "display_data"
    }
   ],
   "source": [
    "#plotting graphs for accuracy \n",
    "plt.figure(0)\n",
    "plt.plot(history.history['accuracy'], label='training accuracy')\n",
    "plt.plot(history.history['val_accuracy'], label='val accuracy')\n",
    "plt.title('Accuracy')\n",
    "plt.xlabel('epochs')\n",
    "plt.ylabel('accuracy')\n",
    "plt.legend()\n",
    "plt.show()\n",
    "\n",
    "plt.figure(1)\n",
    "plt.plot(history.history['loss'], label='training loss')\n",
    "plt.plot(history.history['val_loss'], label='val loss')\n",
    "plt.title('Loss')\n",
    "plt.xlabel('epochs')\n",
    "plt.ylabel('loss')\n",
    "plt.legend()\n",
    "plt.show()\n",
    "\n",
    "#The model built is learning and working fine given that the accuracy and the validation accuracy increased\n",
    "#significantly as they moved to the next epoch, and the loss and validation loss decreased."
   ]
  },
  {
   "cell_type": "code",
   "execution_count": 11,
   "id": "3ba3d84a",
   "metadata": {},
   "outputs": [
    {
     "name": "stderr",
     "output_type": "stream",
     "text": [
      "/Users/RES/opt/anaconda3/lib/python3.8/site-packages/tensorflow/python/keras/engine/sequential.py:450: UserWarning: `model.predict_classes()` is deprecated and will be removed after 2021-01-01. Please use instead:* `np.argmax(model.predict(x), axis=-1)`,   if your model does multi-class classification   (e.g. if it uses a `softmax` last-layer activation).* `(model.predict(x) > 0.5).astype(\"int32\")`,   if your model does binary classification   (e.g. if it uses a `sigmoid` last-layer activation).\n",
      "  warnings.warn('`model.predict_classes()` is deprecated and '\n"
     ]
    }
   ],
   "source": [
    "#testing accuracy on test dataset\n",
    "from sklearn.metrics import accuracy_score\n",
    "y_test = pd.read_csv('Test.csv')\n",
    "\n",
    "labels = y_test[\"ClassId\"].values\n",
    "imgs = y_test[\"Path\"].values\n",
    "\n",
    "data=[]\n",
    "\n",
    "for img in imgs:\n",
    "    image = Image.open(img)\n",
    "    image = image.resize((30,30))\n",
    "    data.append(np.array(image))\n",
    "\n",
    "X_test=np.array(data)\n",
    "\n",
    "pred = model.predict_classes(X_test)"
   ]
  },
  {
   "cell_type": "code",
   "execution_count": 12,
   "id": "6ca5e5dc",
   "metadata": {},
   "outputs": [
    {
     "name": "stdout",
     "output_type": "stream",
     "text": [
      "0.9423594615993666\n"
     ]
    }
   ],
   "source": [
    "#Accuracy with the test data\n",
    "from sklearn.metrics import accuracy_score\n",
    "print(accuracy_score(labels, pred))\n",
    "\n",
    "#Our dataset contains a test folder and in a test.csv file, we have the details related to the image path and their respective class labels.\n",
    "#We extract the image path and labels using pandas. Then to predict the model, we have to resize our images to 30×30 pixels and make a numpy array containing all image data.\n",
    "#From the sklearn.metrics, we imported the accuracy_score and observed how our model predicted the actual labels. We achieved a 95% accuracy in this model."
   ]
  },
  {
   "cell_type": "code",
   "execution_count": null,
   "id": "3b354fdc",
   "metadata": {},
   "outputs": [],
   "source": []
  }
 ],
 "metadata": {
  "kernelspec": {
   "display_name": "Python 3",
   "language": "python",
   "name": "python3"
  },
  "language_info": {
   "codemirror_mode": {
    "name": "ipython",
    "version": 3
   },
   "file_extension": ".py",
   "mimetype": "text/x-python",
   "name": "python",
   "nbconvert_exporter": "python",
   "pygments_lexer": "ipython3",
   "version": "3.8.5"
  }
 },
 "nbformat": 4,
 "nbformat_minor": 5
}
